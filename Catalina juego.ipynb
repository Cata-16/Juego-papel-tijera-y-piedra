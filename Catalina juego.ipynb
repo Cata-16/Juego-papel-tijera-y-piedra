{
 "cells": [
  {
   "cell_type": "code",
   "execution_count": null,
   "metadata": {},
   "outputs": [],
   "source": [
    "import math\n",
    "import random\n"
   ]
  },
  {
   "cell_type": "code",
   "execution_count": 1,
   "metadata": {},
   "outputs": [
    {
     "name": "stdout",
     "output_type": "stream",
     "text": [
      "Es un Empate\n"
     ]
    }
   ],
   "source": [
    "import random\n",
    "\n",
    "def play():\n",
    "    user = input(\" ¿Qué vas a usar? 'piedra','papel','tijeras' \")\n",
    "    computer = random.choice (['piedra', 'papel', 'tijeras'])\n",
    "    \n",
    "    if user == computer:\n",
    "        return 'Es un Empate'\n",
    "    \n",
    "    if is_win(user, computer):\n",
    "        return '¡Ganaste!'\n",
    "    return '¡Perdiste!'\n",
    "\n",
    "def is_win(player, opponent):\n",
    "    if (player == 'piedra' and opponent == 'tijeras') or (player == 'tijeras' and opponent == 'papel') \\\n",
    "        or (player == 'papel' and opponent == 'tijeras'):\n",
    "        return True\n",
    "    \n",
    "print(play())"
   ]
  },
  {
   "cell_type": "code",
   "execution_count": null,
   "metadata": {},
   "outputs": [],
   "source": [
    "#Ciclo para repetir el juego 5 veces\n",
    "for i in range(5):\n",
    "    print(f\"Ronda{i + 1}:\")\n",
    "    resultado = play()\n",
    "    print(resultado)\n",
    "    print()"
   ]
  },
  {
   "cell_type": "code",
   "execution_count": null,
   "metadata": {},
   "outputs": [],
   "source": [
    "#!#$&()*+,-./0123456789?@ABCDEFGHIJKLMNOPQRSTUVWXYZabcdefghijklmnopqrstuvwxyz\n",
    "\n",
    "import random\n",
    "\n",
    "chars = '!#$&()*+,-./0123456789?@ABCDEFGHIJKLMNOPQRSTUVWXYZabcdefghijklmnopqrstuvwxyz'\n",
    "password =''\n",
    "\n",
    "lengthPW = int(input('Que longitud quieres para tu pw'))\n",
    "\n",
    "for _ in range(lengthPW):\n",
    "\n",
    "    password += random.choice(chars)\n",
    "\n",
    "print(password)"
   ]
  }
 ],
 "metadata": {
  "kernelspec": {
   "display_name": "Python 3",
   "language": "python",
   "name": "python3"
  },
  "language_info": {
   "codemirror_mode": {
    "name": "ipython",
    "version": 3
   },
   "file_extension": ".py",
   "mimetype": "text/x-python",
   "name": "python",
   "nbconvert_exporter": "python",
   "pygments_lexer": "ipython3",
   "version": "3.11.2"
  }
 },
 "nbformat": 4,
 "nbformat_minor": 2
}
